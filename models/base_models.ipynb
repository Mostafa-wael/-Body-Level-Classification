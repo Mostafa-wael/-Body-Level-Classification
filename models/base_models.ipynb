{
 "cells": [
  {
   "attachments": {},
   "cell_type": "markdown",
   "metadata": {},
   "source": [
    "# Dummy Model"
   ]
  },
  {
   "cell_type": "code",
   "execution_count": 28,
   "metadata": {},
   "outputs": [],
   "source": [
    "import pandas as pd\n",
    "import numpy as np\n",
    "import matplotlib.pyplot as plt\n",
    "from sklearn.model_selection import cross_validate\n",
    "import seaborn as sns\n",
    "sns.set(style='darkgrid', context='talk', palette='Set2')\n"
   ]
  },
  {
   "attachments": {},
   "cell_type": "markdown",
   "metadata": {},
   "source": [
    "## Read the data"
   ]
  },
  {
   "cell_type": "code",
   "execution_count": 29,
   "metadata": {},
   "outputs": [],
   "source": [
    "df = pd.read_csv('../data/train_data.csv')\n",
    "# create a new column called weightOverHeightSquared\n",
    "df['weightOverHeightSquared'] = df['Weight'] / df['Height'] ** 2\n",
    "\n",
    "numerical_features = ['Weight', 'Height', 'Age', 'Meal_Count', 'Phys_Act', 'Water_Consump']\n",
    "categorical_features = ['Smoking', 'Alcohol_Consump', 'Transport']\n",
    "target = 'Body_Level'\n",
    "\n",
    "df = df[numerical_features + categorical_features + [target]]\n",
    "\n",
    "# encode categorical features\n",
    "df = pd.get_dummies(df, columns=categorical_features)\n"
   ]
  },
  {
   "attachments": {},
   "cell_type": "markdown",
   "metadata": {},
   "source": [
    "## Prepare the data"
   ]
  },
  {
   "cell_type": "code",
   "execution_count": 30,
   "metadata": {},
   "outputs": [],
   "source": [
    "X = df.drop('Body_Level', axis=1) # x contains all features except the target\n",
    "# X = df.drop('Alcohol_Consump_Always', axis=1) \n",
    "\n",
    "# take the weight and height columns only\n",
    "# X = X[['Weight', 'Height']]\n",
    "y = df['Body_Level'] # y contains only the target\n",
    "y = y.map({'Body Level 1': 0, 'Body Level 2': 1, 'Body Level 3': 2, 'Body Level 4': 3}) # encode target to numerical values"
   ]
  },
  {
   "attachments": {},
   "cell_type": "markdown",
   "metadata": {},
   "source": [
    "## Dummy Model\n",
    "The DummyClassifier class in scikit-learn provides several strategies for a baseline method, such as predicting the most frequent class label, predicting a random class label,  or predicting based on the class distribution of the training set. \n",
    "\n",
    "\n",
    "**Strategy to use to generate predictions:**\n",
    "1. \"most_frequent\": \n",
    "   - The predict method always returns the most frequent class label in the observed y argument passed to fit. \n",
    "   - The predict_proba method returns the matching one-hot encoded vector.\n",
    "2. \"prior\": \n",
    "  - The predict method always returns the most frequent class label in the observed y argument passed to fit (like \"most_frequent\"). \n",
    "  - Predict_proba always returns the empirical class distribution of y also known as the empirical class prior distribution.\n",
    "3. \"stratified\": \n",
    "  - The predict_proba method randomly samples one-hot vectors from a multinomial distribution parametrized by the empirical class prior probabilities. \n",
    "  - The predict method returns the class label which got probability one in the one-hot vector of predict_proba. Each sampled row of both methods is therefore independent and identically distributed.\n",
    "4. \"uniform\": \n",
    "  - Generates predictions uniformly at random from the list of unique classes observed in y, i.e. each class has equal probability.\n",
    "5. \"constant\": \n",
    "  - Always predicts a constant label that is provided by the user. This is useful for metrics that evaluate a non-majority class.\n",
    "\n"
   ]
  },
  {
   "cell_type": "code",
   "execution_count": 31,
   "metadata": {},
   "outputs": [
    {
     "name": "stdout",
     "output_type": "stream",
     "text": [
      "accuracy:  0.2582751744765702\n",
      "f1_macro:  0.23978499507790643\n",
      "f1_micro:  0.2582751744765702\n"
     ]
    }
   ],
   "source": [
    "from sklearn.dummy import DummyClassifier\n",
    "from sklearn.model_selection import cross_validate\n",
    "\n",
    "# Train ZeroR on the training set\n",
    "zeroR = DummyClassifier(strategy='uniform')\n",
    "zeroR.fit(X, y)\n",
    "\n",
    "cv_results = cross_validate(zeroR, X, y, cv=10, scoring=['f1_macro', 'accuracy', 'f1_micro'])\n",
    "\n",
    "print('accuracy: ', cv_results['test_accuracy'].mean())\n",
    "print('f1_macro: ', cv_results['test_f1_macro'].mean())\n",
    "print('f1_micro: ', cv_results['test_f1_micro'].mean())"
   ]
  }
 ],
 "metadata": {
  "kernelspec": {
   "display_name": "Python 3",
   "language": "python",
   "name": "python3"
  },
  "language_info": {
   "codemirror_mode": {
    "name": "ipython",
    "version": 3
   },
   "file_extension": ".py",
   "mimetype": "text/x-python",
   "name": "python",
   "nbconvert_exporter": "python",
   "pygments_lexer": "ipython3",
   "version": "3.10.6"
  },
  "orig_nbformat": 4
 },
 "nbformat": 4,
 "nbformat_minor": 2
}
