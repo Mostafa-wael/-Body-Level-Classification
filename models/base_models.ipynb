{
 "cells": [
  {
   "attachments": {},
   "cell_type": "markdown",
   "metadata": {},
   "source": [
    "# Dummy Model\n"
   ]
  },
  {
   "cell_type": "code",
   "execution_count": 1,
   "metadata": {},
   "outputs": [],
   "source": [
    "import util\n",
    "from sklearn.model_selection import cross_validate\n",
    "import seaborn as sns\n",
    "NUM_FOLDS = 10\n"
   ]
  },
  {
   "attachments": {},
   "cell_type": "markdown",
   "metadata": {},
   "source": [
    "## Read the data\n"
   ]
  },
  {
   "attachments": {},
   "cell_type": "markdown",
   "metadata": {},
   "source": [
    "### Train Data\n"
   ]
  },
  {
   "cell_type": "code",
   "execution_count": 2,
   "metadata": {},
   "outputs": [],
   "source": [
    "X, y = util.getData(path='../data/train_data.csv', scaleNumericalFeatures=True)\n",
    "\n",
    "# create a new column called weightOverHeightSquared\n",
    "# X['weightOverHeightSquared'] = X['Weight'] / X['Height'] ** 2\n",
    "\n",
    "X = X[['Weight', 'Height']]\n"
   ]
  },
  {
   "attachments": {},
   "cell_type": "markdown",
   "metadata": {},
   "source": [
    "## Dummy Model\n",
    "\n",
    "The DummyClassifier class in scikit-learn provides several strategies for a baseline method, such as predicting the most frequent class label, predicting a random class label, or predicting based on the class distribution of the training set.\n",
    "\n",
    "**Strategy to use to generate predictions:**\n",
    "\n",
    "1. \"most_frequent\":\n",
    "   - The predict method always returns the most frequent class label in the observed y argument passed to fit.\n",
    "   - The predict_proba method returns the matching one-hot encoded vector.\n",
    "2. \"prior\":\n",
    "\n",
    "- The predict method always returns the most frequent class label in the observed y argument passed to fit (like \"most_frequent\").\n",
    "- Predict_proba always returns the empirical class distribution of y also known as the empirical class prior distribution.\n",
    "\n",
    "3. \"stratified\":\n",
    "\n",
    "- The predict_proba method randomly samples one-hot vectors from a multinomial distribution parametrized by the empirical class prior probabilities.\n",
    "- The predict method returns the class label which got probability one in the one-hot vector of predict_proba. Each sampled row of both methods is therefore independent and identically distributed.\n",
    "\n",
    "4. \"uniform\":\n",
    "\n",
    "- Generates predictions uniformly at random from the list of unique classes observed in y, i.e. each class has equal probability.\n",
    "\n",
    "5. \"constant\":\n",
    "\n",
    "- Always predicts a constant label that is provided by the user. This is useful for metrics that evaluate a non-majority class.\n"
   ]
  },
  {
   "cell_type": "code",
   "execution_count": 3,
   "metadata": {},
   "outputs": [
    {
     "name": "stdout",
     "output_type": "stream",
     "text": [
      "accuracy:  0.3098917533114941\n",
      "f1_macro:  0.23604586595953245\n",
      "f1_micro:  0.3098917533114941\n"
     ]
    }
   ],
   "source": [
    "from sklearn.dummy import DummyClassifier\n",
    "from sklearn.model_selection import cross_validate\n",
    "\n",
    "# Train ZeroR on the training set\n",
    "zeroR = DummyClassifier(strategy='stratified')\n",
    "zeroR.fit(X, y)\n",
    "\n",
    "cv_results = cross_validate(zeroR, X, y, cv=NUM_FOLDS, scoring=[\n",
    "                            'f1_macro', 'accuracy', 'f1_micro'])\n",
    "\n",
    "print('accuracy: ', cv_results['test_accuracy'].mean())\n",
    "print('f1_macro: ', cv_results['test_f1_macro'].mean())\n",
    "print('f1_micro: ', cv_results['test_f1_micro'].mean())\n"
   ]
  },
  {
   "cell_type": "code",
   "execution_count": null,
   "metadata": {},
   "outputs": [],
   "source": []
  }
 ],
 "metadata": {
  "kernelspec": {
   "display_name": "Python 3",
   "language": "python",
   "name": "python3"
  },
  "language_info": {
   "codemirror_mode": {
    "name": "ipython",
    "version": 3
   },
   "file_extension": ".py",
   "mimetype": "text/x-python",
   "name": "python",
   "nbconvert_exporter": "python",
   "pygments_lexer": "ipython3",
   "version": "3.10.6"
  },
  "orig_nbformat": 4
 },
 "nbformat": 4,
 "nbformat_minor": 2
}
