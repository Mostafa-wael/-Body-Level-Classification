{
 "cells": [
  {
   "cell_type": "code",
   "execution_count": 24,
   "metadata": {},
   "outputs": [],
   "source": [
    "import pandas as pd\n",
    "\n",
    "# sklearn\n",
    "from sklearn.metrics import f1_score\n",
    "from sklearn.metrics import accuracy_score\n",
    "from sklearn.model_selection import cross_validate\n",
    "from sklearn.model_selection import GridSearchCV\n",
    "from sklearn.linear_model import LogisticRegression\n",
    "from sklearn.svm import SVC\n",
    "from sklearn.ensemble import RandomForestClassifier\n",
    "\n",
    "import util"
   ]
  },
  {
   "cell_type": "code",
   "execution_count": 25,
   "metadata": {},
   "outputs": [],
   "source": [
    "from sklearn.base import BaseEstimator, ClassifierMixin\n",
    "import numpy as np\n",
    "\n",
    "\n",
    "class ThresholdClassifier(BaseEstimator, ClassifierMixin):\n",
    "    def __init__(self, threshold=[18.5, 24.9, 29.9]):\n",
    "        self.threshold = threshold\n",
    "\n",
    "    def fit(self, X, y):\n",
    "        pass\n",
    "\n",
    "    def predict(self, X):\n",
    "        # convert x to numpy array\n",
    "        X = np.array(X)\n",
    "        y_pred = np.zeros(X.shape[0])\n",
    "        for i in range(X.shape[0]):\n",
    "            if X[i][0] < self.threshold[0]:\n",
    "                y_pred[i] = 0\n",
    "            elif X[i][0] < self.threshold[1]:\n",
    "                y_pred[i] = 1\n",
    "            elif X[i][0] < self.threshold[2]:\n",
    "                y_pred[i] = 2\n",
    "            else:\n",
    "                y_pred[i] = 3\n",
    "        return y_pred\n"
   ]
  },
  {
   "cell_type": "code",
   "execution_count": 26,
   "metadata": {},
   "outputs": [],
   "source": [
    "X, y = util.getData(path='../data/data.csv', scaleNumericalFeatures=False)\n",
    "X['weightOverHeightSquared'] = X['Weight'] / X['Height'] ** 2"
   ]
  },
  {
   "cell_type": "code",
   "execution_count": 4,
   "metadata": {},
   "outputs": [
    {
     "data": {
      "text/plain": [
       "1477"
      ]
     },
     "execution_count": 4,
     "metadata": {},
     "output_type": "execute_result"
    }
   ],
   "source": [
    "len(X)"
   ]
  },
  {
   "cell_type": "code",
   "execution_count": 5,
   "metadata": {},
   "outputs": [
    {
     "name": "stdout",
     "output_type": "stream",
     "text": [
      "Accuracy: 0.988\n",
      "F1: 0.988\n"
     ]
    }
   ],
   "source": [
    "y_threshold = ThresholdClassifier().predict(X[['weightOverHeightSquared']])\n",
    "# threshold scores\n",
    "print(f\"Accuracy: {accuracy_score(y_threshold, y):0.3f}\")\n",
    "print(f\"F1: {f1_score(y_threshold, y, average='weighted'):0.3f}\")"
   ]
  },
  {
   "cell_type": "code",
   "execution_count": 7,
   "metadata": {},
   "outputs": [
    {
     "name": "stdout",
     "output_type": "stream",
     "text": [
      "Best parameters:  {'C': 100}\n",
      "Best score:  0.9858065775068725\n"
     ]
    }
   ],
   "source": [
    "# tunning logistic regression with grid search with weightOverHeightSquared feature\n",
    "\n",
    "# logistic regression with grid search\n",
    "param_grid = {'C': [1, 10, 100, 1000]}\n",
    "grid = GridSearchCV(LogisticRegression(max_iter=10000), param_grid, cv=10, scoring='f1_weighted')\n",
    "grid.fit(X[['weightOverHeightSquared']], y)\n",
    "\n",
    "print('Best parameters: ', grid.best_params_)\n",
    "print('Best score: ', grid.best_score_)"
   ]
  },
  {
   "cell_type": "code",
   "execution_count": 8,
   "metadata": {},
   "outputs": [
    {
     "name": "stdout",
     "output_type": "stream",
     "text": [
      "Accuracy: 0.991\n"
     ]
    }
   ],
   "source": [
    "# compare logistic out with threshold\n",
    "y_logistic = grid.predict(X[['weightOverHeightSquared']])\n",
    "print(f\"Accuracy: {accuracy_score(y_logistic, y_threshold):0.3f}\")"
   ]
  },
  {
   "cell_type": "code",
   "execution_count": 28,
   "metadata": {},
   "outputs": [
    {
     "name": "stdout",
     "output_type": "stream",
     "text": [
      "Best parameters:  {'C': 10, 'degree': 3, 'gamma': 0.1, 'kernel': 'poly'}\n",
      "Best score:  0.9871789908190554\n"
     ]
    }
   ],
   "source": [
    "# tunning svm with grid search with weightOverHeightSquared feature\n",
    "\n",
    "# svm with grid search with different kernels\n",
    "param_grid = [\n",
    "  {'C': [100, 10, 1], 'kernel': ['linear']},\n",
    "  {'C': [100, 10, 1], 'kernel': ['rbf'], 'gamma': [0.1, 0.01, 0.001]},\n",
    "  {'C': [100, 10, 1], 'kernel': ['sigmoid'], 'gamma': [0.1, 0.01, 0.001]},\n",
    "  {'C': [10, 1], 'kernel': ['poly'], 'degree': [2, 3, 4], 'gamma': [0.1, 0.01, 0.001]}\n",
    " ]\n",
    "grid = GridSearchCV(SVC(), param_grid, cv=10, scoring='f1_weighted', n_jobs=5)\n",
    "\n",
    "grid.fit(X[['weightOverHeightSquared']], y)\n",
    "\n",
    "print('Best parameters: ', grid.best_params_)\n",
    "print('Best score: ', grid.best_score_)"
   ]
  },
  {
   "cell_type": "code",
   "execution_count": 30,
   "metadata": {},
   "outputs": [
    {
     "name": "stdout",
     "output_type": "stream",
     "text": [
      "Accuracy: 0.991\n"
     ]
    }
   ],
   "source": [
    "# compare svm out with threshold\n",
    "y_svm = grid.predict(X[['weightOverHeightSquared']])\n",
    "print(f\"Accuracy: {accuracy_score(y_svm, y_threshold):0.3f}\")"
   ]
  },
  {
   "cell_type": "code",
   "execution_count": 13,
   "metadata": {},
   "outputs": [
    {
     "name": "stdout",
     "output_type": "stream",
     "text": [
      "Best parameters:  {'max_depth': 10, 'n_estimators': 100}\n",
      "Best score:  0.9776777730153778\n"
     ]
    }
   ],
   "source": [
    "# tunning rf with grid search with weightOverHeightSquared feature\n",
    "\n",
    "# random forest with grid search\n",
    "param_grid = {'n_estimators': [100, 200, 300, 400], 'max_depth': [10, 20, 30, 40, 50]}\n",
    "grid = GridSearchCV(RandomForestClassifier(), param_grid, cv=10, scoring='f1_weighted', n_jobs=5)\n",
    "grid.fit(X[['weightOverHeightSquared']], y)\n",
    "\n",
    "print('Best parameters: ', grid.best_params_)\n",
    "print('Best score: ', grid.best_score_)"
   ]
  },
  {
   "cell_type": "code",
   "execution_count": 14,
   "metadata": {},
   "outputs": [
    {
     "name": "stdout",
     "output_type": "stream",
     "text": [
      "Accuracy: 0.988\n"
     ]
    }
   ],
   "source": [
    "# compare rf out with threshold\n",
    "y_rf = grid.predict(X[['weightOverHeightSquared']])\n",
    "print(f\"Accuracy: {accuracy_score(y_rf, y_threshold):0.3f}\")"
   ]
  },
  {
   "cell_type": "code",
   "execution_count": null,
   "metadata": {},
   "outputs": [],
   "source": []
  }
 ],
 "metadata": {
  "kernelspec": {
   "display_name": "HiVT",
   "language": "python",
   "name": "python3"
  },
  "language_info": {
   "codemirror_mode": {
    "name": "ipython",
    "version": 3
   },
   "file_extension": ".py",
   "mimetype": "text/x-python",
   "name": "python",
   "nbconvert_exporter": "python",
   "pygments_lexer": "ipython3",
   "version": "3.8.16"
  },
  "orig_nbformat": 4,
  "vscode": {
   "interpreter": {
    "hash": "60314a8d3aa5fc3596f5f57b712d271dc597492e130eb7f55220048155540bfa"
   }
  }
 },
 "nbformat": 4,
 "nbformat_minor": 2
}
